{
 "cells": [
  {
   "cell_type": "code",
   "execution_count": 1,
   "metadata": {
    "collapsed": true
   },
   "outputs": [
    {
     "name": "stdout",
     "output_type": "stream",
     "text": [
      "Loading, please wait...\n",
      "Connecting to database...\n",
      "Connected!\n"
     ]
    }
   ],
   "source": [
    "import initialyzer\n",
    "import db\n",
    "import db.controller as con\n",
    "import charts\n",
    "from config import Config\n",
    "from importlib import reload\n",
    "\n",
    "def start():\n",
    "    print(\"Loading, please wait...\")\n",
    "    initialyzer.init()\n",
    "    print(\"Connecting to database...\")\n",
    "    db.init(Config())\n",
    "start();"
   ]
  },
  {
   "cell_type": "code",
   "execution_count": 2,
   "metadata": {},
   "outputs": [
    {
     "name": "stdout",
     "output_type": "stream",
     "text": [
      "                     activeorders  totalinmarket\n",
      "timeval                                         \n",
      "2018-08-01 00:00:00            32       158908.7\n",
      "2018-08-01 00:10:00            29       157402.1\n",
      "2018-08-01 00:20:00            30       157701.0\n",
      "2018-08-01 00:30:00            30       157702.1\n",
      "2018-08-01 00:40:00            31       158878.5\n"
     ]
    }
   ],
   "source": [
    "marketByTimeAsk = con.getMarketByTime(\"ask\");\n",
    "#marketByTimeBid = con.getMarketByTime(\"bid\");\n",
    "print(marketByTimeAsk.head())"
   ]
  },
  {
   "cell_type": "code",
   "execution_count": 126,
   "metadata": {},
   "outputs": [
    {
     "name": "stdout",
     "output_type": "stream",
     "text": [
      "ANTERIOR: 2018-08-02 00:50:00 33.0\n",
      "ATUAL: 2018-08-02 01:00:00 34.0\n",
      "PROXIMO: 2018-08-02 01:10:00 35.0\n",
      "BEGIN\n",
      "15-14(1) 12(2) 8(4) 0(8) \n",
      "16-15(1) 13(2) 9(4) 1(8) \n",
      "17-16(1) 14(2) 10(4) 2(8) \n",
      "18-17(1) 15(2) 11(4) 3(8) \n"
     ]
    },
    {
     "data": {
      "text/html": [
       "<div>\n",
       "<style scoped>\n",
       "    .dataframe tbody tr th:only-of-type {\n",
       "        vertical-align: middle;\n",
       "    }\n",
       "\n",
       "    .dataframe tbody tr th {\n",
       "        vertical-align: top;\n",
       "    }\n",
       "\n",
       "    .dataframe thead th {\n",
       "        text-align: right;\n",
       "    }\n",
       "</style>\n",
       "<table border=\"1\" class=\"dataframe\">\n",
       "  <thead>\n",
       "    <tr style=\"text-align: right;\">\n",
       "      <th></th>\n",
       "      <th>t-1</th>\n",
       "      <th>t-2</th>\n",
       "      <th>t-3</th>\n",
       "      <th>t-4</th>\n",
       "    </tr>\n",
       "  </thead>\n",
       "  <tbody>\n",
       "  </tbody>\n",
       "</table>\n",
       "</div>"
      ],
      "text/plain": [
       "Empty DataFrame\n",
       "Columns: [t-1, t-2, t-3, t-4]\n",
       "Index: []"
      ]
     },
     "execution_count": 126,
     "metadata": {},
     "output_type": "execute_result"
    }
   ],
   "source": [
    "import time\n",
    "import datetime\n",
    "import pandas as pd\n",
    "import numpy as np\n",
    "import math\n",
    "from datetime import timedelta  \n",
    "\n",
    "#data = ctr.getMarketByTime(\"ask\")\n",
    "#data[\"timeval\"] = data['timeval'].dt.date\n",
    "\n",
    "def nearest(dataFrame, timeFilter):\n",
    "    dt = pd.Timestamp(timeFilter)\n",
    "    row = dataFrame.index.get_loc(dt, method='nearest')\n",
    "    return data.loc[data.index[row]]\n",
    "\n",
    "#marketByTimeAsk = marketByTimeAsk.reset_index(drop=True);\n",
    "#for index,item in enumerate(marketByTimeAsk.values):\n",
    "#   print(item[0])\n",
    "startTs = pd.Timestamp(\"2018-08-01 00:00:00\")\n",
    "endTs = pd.Timestamp(\"2018-08-10 00:00:00\")\n",
    "\n",
    "loopTs = startTs;\n",
    "index = 0;\n",
    "it = None\n",
    "while(loopTs<endTs):\n",
    "    #print(marketByTimeAsk.loc[loopTs][\"activeorders\"]+1)\n",
    "    if index==150:\n",
    "        anterior = marketByTimeAsk.loc[loopTs-timedelta(minutes=10)]\n",
    "        atual = marketByTimeAsk.loc[loopTs]\n",
    "        proximo = marketByTimeAsk.loc[loopTs+timedelta(minutes=10)]\n",
    "        it = atual\n",
    "        print(\"ANTERIOR: \"+str(anterior.name)+\" \"+str(anterior[\"activeorders\"]))\n",
    "        print(\"ATUAL: \"+str(atual.name)+\" \"+str(atual[\"activeorders\"]))\n",
    "        print(\"PROXIMO: \"+str(proximo.name)+\" \"+str(proximo[\"activeorders\"]))\n",
    "    \n",
    "    index+=1\n",
    "    loopTs = loopTs + timedelta(minutes=10)\n",
    "    \n",
    "print(\"BEGIN\")\n",
    "def calcPrevChanges(marketData, prevCount):\n",
    "    step = 10\n",
    "    df = pd.DataFrame()\n",
    "    for x in range(prevCount):\n",
    "        dfIndex = ((x+1)*-1)\n",
    "        df[\"t\"+str(dfIndex)] = [];\n",
    "    index = 0;\n",
    "    while(index<len(marketData)):\n",
    "        if(index<(2**(prevCount))-1):\n",
    "            index+=1;\n",
    "            continue;\n",
    "        print(index, end=\"-\")\n",
    "        prevIndex = index;\n",
    "        minusCount = 1;\n",
    "        while((index-prevIndex)<=(2**(prevCount-1))+2):\n",
    "            prevIndex-=minusCount;\n",
    "            print(str(prevIndex)+\"(\"+str(minusCount)+\") \",end=\"\")\n",
    "            minusCount = 2*minusCount;\n",
    "        print(\"\")\n",
    "        index+=1;\n",
    "    return df\n",
    "    \n",
    "testData = pd.DataFrame()\n",
    "testData[\"value\"] = np.arange(1, 20)\n",
    "testData.reset_index()\n",
    "prev = calcPrevChanges(testData, 4)\n",
    "prev"
   ]
  },
  {
   "cell_type": "code",
   "execution_count": 119,
   "metadata": {},
   "outputs": [
    {
     "data": {
      "text/plain": [
       "array([1, 2, 3, 4, 5, 6, 7, 8, 9])"
      ]
     },
     "execution_count": 119,
     "metadata": {},
     "output_type": "execute_result"
    }
   ],
   "source": [
    "import array\n",
    "np.arange(1, 10)"
   ]
  }
 ],
 "metadata": {
  "kernelspec": {
   "display_name": "Python 3",
   "language": "python",
   "name": "python3"
  },
  "language_info": {
   "codemirror_mode": {
    "name": "ipython",
    "version": 3
   },
   "file_extension": ".py",
   "mimetype": "text/x-python",
   "name": "python",
   "nbconvert_exporter": "python",
   "pygments_lexer": "ipython3",
   "version": "3.5.6"
  }
 },
 "nbformat": 4,
 "nbformat_minor": 2
}
