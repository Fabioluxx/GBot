{
 "cells": [
  {
   "cell_type": "code",
   "execution_count": 1,
   "metadata": {
    "collapsed": true
   },
   "outputs": [
    {
     "name": "stdout",
     "output_type": "stream",
     "text": [
      "Loading, please wait...\n",
      "Connecting to database...\n",
      "Connected!\n"
     ]
    }
   ],
   "source": [
    "import initialyzer\n",
    "import db\n",
    "import db.controller as ctr\n",
    "import charts\n",
    "from config import Config\n",
    "\n",
    "print(\"Loading, please wait...\")\n",
    "initialyzer.init()\n",
    "print(\"Connecting to database...\")\n",
    "db.init(Config())"
   ]
  },
  {
   "cell_type": "code",
   "execution_count": 15,
   "metadata": {},
   "outputs": [
    {
     "name": "stdout",
     "output_type": "stream",
     "text": [
      "activeorders       2.0\n",
      "totalinmarket   7149.4\n",
      "Name: 2018-08-07 14:40:00, dtype: float64\n"
     ]
    }
   ],
   "source": [
    "import time\n",
    "import datetime\n",
    "import pandas as pd\n",
    "import numpy as np\n",
    "data = ctr.getMarketByTime(\"ask\")\n",
    "#data[\"timeval\"] = data['timeval'].dt.date\n",
    "\n",
    "def nearest(dataFrame, timeFilter):\n",
    "    dt = pd.Timestamp(timeFilter)\n",
    "    row = dataFrame.index.get_loc(dt, method='nearest')\n",
    "    return data.loc[data.index[row]]\n",
    "\n",
    "print(nearest(data, '2018-08-07 14:50:00'))"
   ]
  },
  {
   "cell_type": "code",
   "execution_count": null,
   "metadata": {},
   "outputs": [],
   "source": [
    "#ctr.test().tail()\n",
    "charts.marketByTime();\n",
    "charts.totalTransactions();"
   ]
  }
 ],
 "metadata": {
  "kernelspec": {
   "display_name": "Python 3",
   "language": "python",
   "name": "python3"
  },
  "language_info": {
   "codemirror_mode": {
    "name": "ipython",
    "version": 3
   },
   "file_extension": ".py",
   "mimetype": "text/x-python",
   "name": "python",
   "nbconvert_exporter": "python",
   "pygments_lexer": "ipython3",
   "version": "3.6.5"
  }
 },
 "nbformat": 4,
 "nbformat_minor": 2
}
